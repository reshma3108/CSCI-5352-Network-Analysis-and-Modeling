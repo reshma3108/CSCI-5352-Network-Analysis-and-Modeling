{
 "cells": [
  {
   "cell_type": "code",
   "execution_count": null,
   "metadata": {},
   "outputs": [],
   "source": [
    "import os\n",
    "import networkx as nx\n",
    "import community\n",
    "import matplotlib.pyplot as plt\n",
    "from community import community_louvain\n",
    "import numpy as np\n",
    "import pandas as pd\n",
    "import re\n",
    "from webweb import Web\n",
    "import operator\n",
    "import math\n",
    "import itertools\n",
    "import matplotlib.pyplot as plt\n",
    "from networkx.drawing.nx_agraph import graphviz_layout\n",
    "from pandas import ExcelWriter\n",
    "from pandas import ExcelFile\n",
    "from collections import Counter\n",
    "from collections import defaultdict\n",
    "from networkx import edge_betweenness_centrality as betweenness\n",
    "import networkx as nx\n",
    "import community\n",
    "import matplotlib.pyplot as plt\n",
    "from community import community_louvain"
   ]
  },
  {
   "cell_type": "code",
   "execution_count": null,
   "metadata": {},
   "outputs": [],
   "source": [
    "#Directed, Weighted\n",
    "def exp_directed_weighted(df_exp,year):\n",
    "    df_exp = df_exp[df_exp['Year']==year]\n",
    "    nodes = np.unique(df_exp[['ReporterName','PartnerName']]).tolist()\n",
    "    edges = df_exp[['ReporterName','PartnerName','Value']].values.tolist()\n",
    "    \n",
    "    for edge in edges:\n",
    "        edge[2] = edge[2]/max(map(lambda x: x[2], edges))\n",
    "\n",
    "    labels = {}\n",
    "    for i in range(len(nodes)):\n",
    "        labels[nodes[i]] = nodes[i]\n",
    "        \n",
    "\n",
    "    return nodes,labels,edges\n"
   ]
  },
  {
   "cell_type": "code",
   "execution_count": null,
   "metadata": {},
   "outputs": [],
   "source": [
    "#Directed,weighted graph\n",
    "def graph_d_w(nodes,weighted_edges):\n",
    "    g = nx.DiGraph()\n",
    "    for i in weighted_edges:\n",
    "        g.add_edge(i[0], i[1], weight=i[2]) \n",
    "    return g"
   ]
  },
  {
   "cell_type": "code",
   "execution_count": null,
   "metadata": {},
   "outputs": [],
   "source": [
    "def calculate_purity(df_exp_prod):\n",
    "    purity_scores_list = []\n",
    "\n",
    "    nodes_prev,labels_prev,edges_prev = exp_directed_weighted(df_exp_prod,1996)\n",
    "    G = nx.Graph()\n",
    "    G.add_nodes_from(nodes_prev)\n",
    "    for i in edges_prev:\n",
    "        G.add_edge(i[0], i[1], weight=i[2]) \n",
    "    partition = community_louvain.best_partition(G,weight='weight')\n",
    "    prev_communities = defaultdict(list)\n",
    "    for key, value in sorted(partition.items()):\n",
    "        prev_communities[value].append(key)\n",
    "\n",
    "\n",
    "    for year in range(1997, 2019,1):\n",
    "        nodes,labels,edges = exp_directed_weighted(df_exp_prod,year)\n",
    "        G = nx.Graph()\n",
    "        G.add_nodes_from(nodes)\n",
    "        for i in edges:\n",
    "            G.add_edge(i[0], i[1], weight=i[2]) \n",
    "        partition = community_louvain.best_partition(G,weight='weight')\n",
    "        communities = defaultdict(list)\n",
    "        for key, value in sorted(partition.items()):\n",
    "            communities[value].append(key)\n",
    "\n",
    "        purity = 0\n",
    "        country_purity = {}\n",
    "        comm1 = set()\n",
    "        comm2 = set()\n",
    "        for country in nodes_prev:\n",
    "            for c in prev_communities.values():\n",
    "                if country in c:\n",
    "    #                 print(c)\n",
    "                    comm1 = set(c)\n",
    "            for c in communities.values():\n",
    "    #             print(c)\n",
    "                if country in c:\n",
    "                    comm2 = set(c)\n",
    "            inter = comm1.intersection(comm2)\n",
    "            uni = comm1.union(comm2)\n",
    "            purity  = (len(inter)/len(uni))\n",
    "            country_purity[country] = purity\n",
    "\n",
    "\n",
    "        total_purity_score =0\n",
    "        for comm in prev_communities.values():\n",
    "            purity_score_comm = 0\n",
    "            for country in comm:\n",
    "                purity_score_comm += country_purity[country]\n",
    "            purity_score_comm/= len(comm)\n",
    "\n",
    "            total_purity_score+=purity_score_comm\n",
    "\n",
    "\n",
    "        purity_scores_list.append(total_purity_score/len(prev_communities))\n",
    "\n",
    "        nodes_prev,labels_prev,edges_prev = nodes, labels, edges\n",
    "        prev_communities = communities\n",
    "        \n",
    "    return purity_scores_list\n"
   ]
  },
  {
   "cell_type": "code",
   "execution_count": null,
   "metadata": {},
   "outputs": [],
   "source": [
    "def draw_plot(df,year):\n",
    "    nodes,labels,edges = exp_directed_weighted(df,year)\n",
    "    # print(len(edges_fuel))\n",
    "    G = graph_d_w(nodes,edges)\n",
    "    d = nx.degree(G)  \n",
    "    partition = community_louvain.best_partition(G,weight='weight')\n",
    "\n",
    "    size = float(len(set(partition.values())))\n",
    "    pos = nx.spring_layout(G,iterations=10)\n",
    "    plt.figure(figsize=(10, 10))  # image is 8 x 8 inches\n",
    "    plt.axis('off')\n",
    "\n",
    "    nx.draw_networkx_nodes(G, pos, node_size=[v[1] for v in d], cmap=plt.get_cmap('jet'), node_color=list(partition.values()))\n",
    "    nx.draw_networkx_edges(G, pos, alpha=0.01)\n",
    "    plt.savefig('community.png')\n",
    "\n",
    "    return partition\n"
   ]
  },
  {
   "cell_type": "code",
   "execution_count": null,
   "metadata": {},
   "outputs": [],
   "source": [
    "#DataFrame Fuel\n",
    "df_exp_fuel = pd.read_csv('2000FuelExports.csv')\n",
    "df_exp_fuel['ReporterName'] = df_exp_fuel['ReporterName'].astype('str')\n",
    "df_exp_fuel['PartnerName'] = df_exp_fuel['PartnerName'].astype('str')\n",
    "\n",
    "df_exp_fuel['ReporterName'] = df_exp_fuel['ReporterName'].str.strip()\n",
    "df_exp_fuel['PartnerName'] = df_exp_fuel['PartnerName'].str.strip()\n",
    "years = np.unique(df_exp_fuel['Year']).tolist()\n"
   ]
  },
  {
   "cell_type": "code",
   "execution_count": null,
   "metadata": {},
   "outputs": [],
   "source": [
    "#DataFrame Cement\n",
    "df_exp_cement = pd.read_csv('CementExports.csv')\n",
    "df_exp_cement['ReporterName'] = df_exp_cement['ReporterName'].astype('str')\n",
    "df_exp_cement['PartnerName'] = df_exp_cement['PartnerName'].astype('str')\n",
    "\n",
    "df_exp_cement['ReporterName'] = df_exp_cement['ReporterName'].str.strip()\n",
    "df_exp_cement['PartnerName'] = df_exp_cement['PartnerName'].str.strip()"
   ]
  },
  {
   "cell_type": "code",
   "execution_count": null,
   "metadata": {},
   "outputs": [],
   "source": [
    "#DataFrame AutoMobiles\n",
    "df_exp_auto = pd.read_csv('EnginesExports.csv')\n",
    "df_exp_auto['ReporterName'] = df_exp_auto['ReporterName'].astype('str')\n",
    "df_exp_auto['PartnerName'] = df_exp_auto['PartnerName'].astype('str')\n",
    "\n",
    "df_exp_auto['ReporterName'] = df_exp_auto['ReporterName'].str.strip()\n",
    "df_exp_auto['PartnerName'] = df_exp_auto['PartnerName'].str.strip()"
   ]
  },
  {
   "cell_type": "code",
   "execution_count": null,
   "metadata": {},
   "outputs": [],
   "source": [
    "#partitions- Communities\n",
    "partition_fuel = draw_graph(df_exp_fuel,2005)\n",
    "partition_cement = draw_graph(df_exp_cement,2005)\n",
    "partition_auto = draw_graph(df_exp_auto,2005)"
   ]
  },
  {
   "cell_type": "code",
   "execution_count": null,
   "metadata": {},
   "outputs": [],
   "source": [
    "v = defaultdict(list)\n",
    "for key, value in sorted(partition.items()):\n",
    "    v[value].append(key)\n",
    "print(v)"
   ]
  },
  {
   "cell_type": "code",
   "execution_count": null,
   "metadata": {},
   "outputs": [],
   "source": [
    "#Community detection through betweenes centrality\n",
    "def most_central_edge(G):\n",
    "    centrality = nx.edge_betweenness_centrality(G)\n",
    "    new_centrality = {}\n",
    "    for edge,cen in centrality.items():\n",
    "        new_centrality[edge] = G[edge[0]][edge[1]]['weight']*G.degree[edge[0]]*G.degree[edge[1]]*cen\n",
    "    return max(new_centrality, key=new_centrality.get)\n",
    "\n",
    "G = nx.Graph()\n",
    "nodes,labels,edges = exp_directed_weighted(df_exp_fuel,2017)\n",
    "# print(nodes)\n",
    "G.add_nodes_from(nodes)\n",
    "for edge in edges:\n",
    "    G.add_edge(edge[0],edge[1],weight=edge[2])\n",
    "comp = nx.algorithms.community.centrality.girvan_newman(G, most_valuable_edge=most_central_edge)\n",
    "\n",
    "\n",
    "limited = itertools.takewhile(lambda c: len(c) <= 10, comp)\n",
    "\n",
    "for communities in limited:\n",
    "    print(tuple(sorted(c) for c in communities)) \n",
    "\n"
   ]
  },
  {
   "cell_type": "code",
   "execution_count": null,
   "metadata": {},
   "outputs": [],
   "source": [
    "#purity scores\n",
    "purity_score_fuel = calculate_purity(df_exp_fuel)\n",
    "purity_score_cement = calculate_purity(df_exp_cement)\n",
    "purity_score_auto = calculate_purity(df_exp_auto)\n"
   ]
  },
  {
   "cell_type": "code",
   "execution_count": null,
   "metadata": {},
   "outputs": [],
   "source": [
    "#community stability \n",
    "plt.xlabel(\"year\")\n",
    "plt.ylabel(\"Stability of Communities in consecutive years\")\n",
    "plt.plot(years[:len(years)-1],purity_score_fuel,'-',label='fuel')\n",
    "plt.plot(years[:len(years)-1],purity_score_cement,'-',label='cement')\n",
    "plt.plot(years[:len(years)-1],purity_score_auto,'-',label='AutoMobiles')\n",
    "plt.legend()\n",
    "plt.savefig('community_stability.png')"
   ]
  }
 ],
 "metadata": {
  "kernelspec": {
   "display_name": "Python 3",
   "language": "python",
   "name": "python3"
  },
  "language_info": {
   "codemirror_mode": {
    "name": "ipython",
    "version": 3
   },
   "file_extension": ".py",
   "mimetype": "text/x-python",
   "name": "python",
   "nbconvert_exporter": "python",
   "pygments_lexer": "ipython3",
   "version": "3.7.3"
  }
 },
 "nbformat": 4,
 "nbformat_minor": 2
}
